{
  "cells": [
    {
      "cell_type": "markdown",
      "metadata": {
        "id": "view-in-github",
        "colab_type": "text"
      },
      "source": [
        "<a href=\"https://colab.research.google.com/github/mjgrav2001/huggingface_examples/blob/main/gemini/prompts/intro_prompt_design.ipynb\" target=\"_parent\"><img src=\"https://colab.research.google.com/assets/colab-badge.svg\" alt=\"Open In Colab\"/></a>"
      ]
    },
    {
      "cell_type": "code",
      "execution_count": 2,
      "metadata": {
        "id": "ur8xi4C7S06n"
      },
      "outputs": [],
      "source": [
        "# Copyright 2024 Google LLC\n",
        "#\n",
        "# Licensed under the Apache License, Version 2.0 (the \"License\");\n",
        "# you may not use this file except in compliance with the License.\n",
        "# You may obtain a copy of the License at\n",
        "#\n",
        "#     https://www.apache.org/licenses/LICENSE-2.0\n",
        "#\n",
        "# Unless required by applicable law or agreed to in writing, software\n",
        "# distributed under the License is distributed on an \"AS IS\" BASIS,\n",
        "# WITHOUT WARRANTIES OR CONDITIONS OF ANY KIND, either express or implied.\n",
        "# See the License for the specific language governing permissions and\n",
        "# limitations under the License."
      ]
    },
    {
      "cell_type": "markdown",
      "metadata": {
        "id": "JAPoU8Sm5E6e"
      },
      "source": [
        "# Prompt Design - Best Practices\n",
        "\n",
        "> **NOTE:** This notebook uses the Vertex AI SDK, which does not support Gemini 2.0; refer to [Intro to Gemini 2.0 Flash](https://github.com/GoogleCloudPlatform/generative-ai/blob/sdk-updates/gemini/getting-started/intro_gemini_2_0_flash.ipynb) which uses the Google Gen AI SDK.\n",
        "\n",
        "<table align=\"left\">\n",
        "  <td style=\"text-align: center\">\n",
        "    <a href=\"https://colab.research.google.com/github/GoogleCloudPlatform/generative-ai/blob/main/gemini/prompts/intro_prompt_design.ipynb\">\n",
        "      <img src=\"https://cloud.google.com/ml-engine/images/colab-logo-32px.png\" alt=\"Google Colaboratory logo\"><br> Open in Colab\n",
        "    </a>\n",
        "  </td>\n",
        "  <td style=\"text-align: center\">\n",
        "    <a href=\"https://console.cloud.google.com/vertex-ai/colab/import/https:%2F%2Fraw.githubusercontent.com%2FGoogleCloudPlatform%2Fgenerative-ai%2Fmain%2Fgemini%2Fprompts%2Fintro_prompt_design.ipynb\">\n",
        "      <img width=\"32px\" src=\"https://lh3.googleusercontent.com/JmcxdQi-qOpctIvWKgPtrzZdJJK-J3sWE1RsfjZNwshCFgE_9fULcNpuXYTilIR2hjwN\" alt=\"Google Cloud Colab Enterprise logo\"><br> Open in Colab Enterprise\n",
        "    </a>\n",
        "  </td>    \n",
        "  <td style=\"text-align: center\">\n",
        "    <a href=\"https://console.cloud.google.com/vertex-ai/workbench/deploy-notebook?download_url=https://raw.githubusercontent.com/GoogleCloudPlatform/generative-ai/main/gemini/prompts/intro_prompt_design.ipynb\">\n",
        "      <img src=\"https://lh3.googleusercontent.com/UiNooY4LUgW_oTvpsNhPpQzsstV5W8F7rYgxgGBD85cWJoLmrOzhVs_ksK_vgx40SHs7jCqkTkCk=e14-rj-sc0xffffff-h130-w32\" alt=\"Vertex AI logo\"><br> Open in Workbench\n",
        "    </a>\n",
        "  </td>\n",
        "  <td style=\"text-align: center\">\n",
        "    <a href=\"https://github.com/GoogleCloudPlatform/generative-ai/blob/main/gemini/prompts/intro_prompt_design.ipynb\">\n",
        "      <img src=\"https://cloud.google.com/ml-engine/images/github-logo-32px.png\" alt=\"GitHub logo\"><br> View on GitHub\n",
        "    </a>\n",
        "  </td>\n",
        "  <td style=\"text-align: center\">\n",
        "    <a href=\"https://goo.gle/4fWHlze\">\n",
        "      <img width=\"32px\" src=\"https://cdn.qwiklabs.com/assets/gcp_cloud-e3a77215f0b8bfa9b3f611c0d2208c7e8708ed31.svg\" alt=\"Google Cloud logo\"><br> Open in  Cloud Skills Boost\n",
        "    </a>\n",
        "  </td>\n",
        "</table>\n",
        "\n",
        "<div style=\"clear: both;\"></div>\n",
        "\n",
        "<b>Share to:</b>\n",
        "\n",
        "<a href=\"https://www.linkedin.com/sharing/share-offsite/?url=https%3A//github.com/GoogleCloudPlatform/generative-ai/blob/main/gemini/prompts/intro_prompt_design.ipynb\" target=\"_blank\">\n",
        "  <img width=\"20px\" src=\"https://upload.wikimedia.org/wikipedia/commons/8/81/LinkedIn_icon.svg\" alt=\"LinkedIn logo\">\n",
        "</a>\n",
        "\n",
        "<a href=\"https://bsky.app/intent/compose?text=https%3A//github.com/GoogleCloudPlatform/generative-ai/blob/main/gemini/prompts/intro_prompt_design.ipynb\" target=\"_blank\">\n",
        "  <img width=\"20px\" src=\"https://upload.wikimedia.org/wikipedia/commons/7/7a/Bluesky_Logo.svg\" alt=\"Bluesky logo\">\n",
        "</a>\n",
        "\n",
        "<a href=\"https://twitter.com/intent/tweet?url=https%3A//github.com/GoogleCloudPlatform/generative-ai/blob/main/gemini/prompts/intro_prompt_design.ipynb\" target=\"_blank\">\n",
        "  <img width=\"20px\" src=\"https://upload.wikimedia.org/wikipedia/commons/5/53/X_logo_2023_original.svg\" alt=\"X logo\">\n",
        "</a>\n",
        "\n",
        "<a href=\"https://reddit.com/submit?url=https%3A//github.com/GoogleCloudPlatform/generative-ai/blob/main/gemini/prompts/intro_prompt_design.ipynb\" target=\"_blank\">\n",
        "  <img width=\"20px\" src=\"https://redditinc.com/hubfs/Reddit%20Inc/Brand/Reddit_Logo.png\" alt=\"Reddit logo\">\n",
        "</a>\n",
        "\n",
        "<a href=\"https://www.facebook.com/sharer/sharer.php?u=https%3A//github.com/GoogleCloudPlatform/generative-ai/blob/main/gemini/prompts/intro_prompt_design.ipynb\" target=\"_blank\">\n",
        "  <img width=\"20px\" src=\"https://upload.wikimedia.org/wikipedia/commons/5/51/Facebook_f_logo_%282019%29.svg\" alt=\"Facebook logo\">\n",
        "</a>            "
      ]
    },
    {
      "cell_type": "markdown",
      "metadata": {
        "id": "84f0f73a0f76"
      },
      "source": [
        "| | | |\n",
        "|-|-|-|\n",
        "|Author(s) | [Polong Lin](https://github.com/polong-lin) | [Karl Weinmeister](https://github.com/kweinmeister)|"
      ]
    },
    {
      "cell_type": "markdown",
      "metadata": {
        "id": "tvgnzT1CKxrO"
      },
      "source": [
        "## Overview\n",
        "\n",
        "This notebook covers the essentials of prompt engineering, including some best practices.\n",
        "\n",
        "Learn more about prompt design in the [official documentation](https://cloud.google.com/vertex-ai/docs/generative-ai/text/text-overview).\n",
        "\n",
        "In this notebook, you learn best practices around prompt engineering -- how to design prompts to improve the quality of your responses.\n",
        "\n",
        "This notebook covers the following best practices for prompt engineering:\n",
        "\n",
        "- Be concise\n",
        "- Be specific and well-defined\n",
        "- Ask one task at a time\n",
        "- Turn generative tasks into classification tasks\n",
        "- Improve response quality by including examples"
      ]
    },
    {
      "cell_type": "markdown",
      "metadata": {
        "id": "61RBz8LLbxCR"
      },
      "source": [
        "## Getting Started"
      ]
    },
    {
      "cell_type": "markdown",
      "metadata": {
        "id": "No17Cw5hgx12"
      },
      "source": [
        "### Install Vertex AI SDK and other required packages\n"
      ]
    },
    {
      "cell_type": "code",
      "execution_count": 3,
      "metadata": {
        "id": "tFy3H3aPgx12",
        "outputId": "949ccc56-b9a3-42d0-8061-baef6f861268",
        "colab": {
          "base_uri": "https://localhost:8080/"
        }
      },
      "outputs": [
        {
          "output_type": "stream",
          "name": "stdout",
          "text": [
            "\u001b[?25l   \u001b[90m━━━━━━━━━━━━━━━━━━━━━━━━━━━━━━━━━━━━━━━━\u001b[0m \u001b[32m0.0/7.1 MB\u001b[0m \u001b[31m?\u001b[0m eta \u001b[36m-:--:--\u001b[0m\r\u001b[2K   \u001b[91m━\u001b[0m\u001b[91m╸\u001b[0m\u001b[90m━━━━━━━━━━━━━━━━━━━━━━━━━━━━━━━━━━━━━━\u001b[0m \u001b[32m0.3/7.1 MB\u001b[0m \u001b[31m10.2 MB/s\u001b[0m eta \u001b[36m0:00:01\u001b[0m\r\u001b[2K   \u001b[91m━━━━━━━━━━━━━━\u001b[0m\u001b[91m╸\u001b[0m\u001b[90m━━━━━━━━━━━━━━━━━━━━━━━━━\u001b[0m \u001b[32m2.6/7.1 MB\u001b[0m \u001b[31m37.2 MB/s\u001b[0m eta \u001b[36m0:00:01\u001b[0m\r\u001b[2K   \u001b[91m━━━━━━━━━━━━━━━━━━━━━━━━━━━━━━━━━━━━━━━\u001b[0m\u001b[91m╸\u001b[0m \u001b[32m7.1/7.1 MB\u001b[0m \u001b[31m73.6 MB/s\u001b[0m eta \u001b[36m0:00:01\u001b[0m\r\u001b[2K   \u001b[90m━━━━━━━━━━━━━━━━━━━━━━━━━━━━━━━━━━━━━━━━\u001b[0m \u001b[32m7.1/7.1 MB\u001b[0m \u001b[31m54.3 MB/s\u001b[0m eta \u001b[36m0:00:00\u001b[0m\n",
            "\u001b[?25h\u001b[33m  WARNING: The script tb-gcp-uploader is installed in '/root/.local/bin' which is not on PATH.\n",
            "  Consider adding this directory to PATH or, if you prefer to suppress this warning, use --no-warn-script-location.\u001b[0m\u001b[33m\n",
            "\u001b[0m"
          ]
        }
      ],
      "source": [
        "%pip install --upgrade --user --quiet google-cloud-aiplatform"
      ]
    },
    {
      "cell_type": "markdown",
      "metadata": {
        "id": "R5Xep4W9lq-Z"
      },
      "source": [
        "### Restart runtime\n",
        "\n",
        "To use the newly installed packages in this Jupyter runtime, you must restart the runtime. You can do this by running the cell below, which will restart the current kernel."
      ]
    },
    {
      "cell_type": "code",
      "execution_count": 4,
      "metadata": {
        "id": "XRvKdaPDTznN",
        "outputId": "37a2ce1d-6f95-4416-f0db-3c902a2d401a",
        "colab": {
          "base_uri": "https://localhost:8080/"
        }
      },
      "outputs": [
        {
          "output_type": "execute_result",
          "data": {
            "text/plain": [
              "{'status': 'ok', 'restart': True}"
            ]
          },
          "metadata": {},
          "execution_count": 4
        }
      ],
      "source": [
        "import IPython\n",
        "\n",
        "app = IPython.Application.instance()\n",
        "app.kernel.do_shutdown(True)"
      ]
    },
    {
      "cell_type": "markdown",
      "metadata": {
        "id": "SbmM4z7FOBpM"
      },
      "source": [
        "<div class=\"alert alert-block alert-warning\">\n",
        "<b>⚠️ The kernel is going to restart. Please wait until it is finished before continuing to the next step. ⚠️</b>\n",
        "</div>\n"
      ]
    },
    {
      "cell_type": "markdown",
      "metadata": {
        "id": "dmWOrTJ3gx13"
      },
      "source": [
        "### Authenticate your notebook environment (Colab only)\n",
        "\n",
        "Authenticate your environment on Google Colab.\n"
      ]
    },
    {
      "cell_type": "code",
      "execution_count": 1,
      "metadata": {
        "id": "NyKGtVQjgx13"
      },
      "outputs": [],
      "source": [
        "import sys\n",
        "\n",
        "if \"google.colab\" in sys.modules:\n",
        "    from google.colab import auth\n",
        "\n",
        "    auth.authenticate_user()"
      ]
    },
    {
      "cell_type": "markdown",
      "metadata": {
        "id": "DF4l8DTdWgPY"
      },
      "source": [
        "### Set Google Cloud project information and initialize Vertex AI SDK\n",
        "\n",
        "To get started using Vertex AI, you must have an existing Google Cloud project and [enable the Vertex AI API](https://console.cloud.google.com/flows/enableapi?apiid=aiplatform.googleapis.com).\n",
        "\n",
        "Learn more about [setting up a project and a development environment](https://cloud.google.com/vertex-ai/docs/start/cloud-environment)."
      ]
    },
    {
      "cell_type": "code",
      "execution_count": 2,
      "metadata": {
        "id": "Nqwi-5ufWp_B"
      },
      "outputs": [],
      "source": [
        "PROJECT_ID = \"promptengineeringvertexai\"  # @param {type:\"string\"}\n",
        "LOCATION = \"us-central1\"  # @param {type:\"string\"}\n",
        "\n",
        "\n",
        "import vertexai\n",
        "\n",
        "vertexai.init(project=PROJECT_ID, location=LOCATION)"
      ]
    },
    {
      "cell_type": "code",
      "execution_count": 3,
      "metadata": {
        "id": "QqRWdPGmW3NJ"
      },
      "outputs": [],
      "source": [
        "from vertexai.generative_models import GenerationConfig, GenerativeModel"
      ]
    },
    {
      "cell_type": "markdown",
      "metadata": {
        "id": "OnFPpCRtXRl4"
      },
      "source": [
        "### Load model"
      ]
    },
    {
      "cell_type": "code",
      "execution_count": 4,
      "metadata": {
        "id": "IQYu_9SvXQah"
      },
      "outputs": [],
      "source": [
        "model = GenerativeModel(\"gemini-1.5-flash\")"
      ]
    },
    {
      "cell_type": "markdown",
      "metadata": {
        "id": "cVOtUNJ5X0PY"
      },
      "source": [
        "## Prompt engineering best practices"
      ]
    },
    {
      "cell_type": "markdown",
      "metadata": {
        "id": "uv_e0fEPX60q"
      },
      "source": [
        "Prompt engineering is all about how to design your prompts so that the response is what you were indeed hoping to see.\n",
        "\n",
        "The idea of using \"unfancy\" prompts is to minimize the noise in your prompt to reduce the possibility of the LLM misinterpreting the intent of the prompt. Below are a few guidelines on how to engineer \"unfancy\" prompts.\n",
        "\n",
        "In this section, you'll cover the following best practices when engineering prompts:\n",
        "\n",
        "* Be concise\n",
        "* Be specific, and well-defined\n",
        "* Ask one task at a time\n",
        "* Improve response quality by including examples\n",
        "* Turn generative tasks to classification tasks to improve safety"
      ]
    },
    {
      "cell_type": "markdown",
      "metadata": {
        "id": "0pY4XX0OX9_Y"
      },
      "source": [
        "### Be concise"
      ]
    },
    {
      "cell_type": "markdown",
      "metadata": {
        "id": "xlRpxyxGYA1K"
      },
      "source": [
        "🛑 Not recommended. The prompt below is unnecessarily verbose."
      ]
    },
    {
      "cell_type": "code",
      "execution_count": 5,
      "metadata": {
        "id": "YKV4G-CfXdbi",
        "outputId": "20f5d532-a88e-4210-dccd-bd60e61a88f2",
        "colab": {
          "base_uri": "https://localhost:8080/"
        }
      },
      "outputs": [
        {
          "output_type": "stream",
          "name": "stdout",
          "text": [
            "Here are some names for a flower shop specializing in dried flowers, playing on different themes:\n",
            "\n",
            "**Romantic & Whimsical:**\n",
            "\n",
            "* Everlasting Blooms\n",
            "* Dried & Divine\n",
            "* The Petal Archive\n",
            "* Whispered Wishes\n",
            "* Bloom & Breathe\n",
            "* The Sun-Kissed Petal\n",
            "* Forever in Bloom\n",
            "\n",
            "**Modern & Minimalist:**\n",
            "\n",
            "* Bloom & Co.\n",
            "* The Dried Florist\n",
            "* The Bloom Bar\n",
            "* Dried & Co.\n",
            "* Botanical Hues\n",
            "* Petal Preservation\n",
            "* The Flower Library\n",
            "\n",
            "**Unique & Playful:**\n",
            "\n",
            "* The Dusty Bouquet\n",
            "* The Paper Petal\n",
            "* Dried & Delightful\n",
            "* The Petal Pantry\n",
            "* Bloom & Beyond\n",
            "* The Flower Alchemist\n",
            "* The Botanical Muse\n",
            "\n",
            "**Tips for Choosing a Name:**\n",
            "\n",
            "* **Keep it short and memorable:**  Easy to say and remember.\n",
            "* **Consider your target audience:** Who are you trying to attract?\n",
            "* **Check for availability:** Make sure the name isn't already taken.\n",
            "* **Reflect your brand:**  Does it match your overall style and aesthetic?\n",
            "\n",
            "**Bonus:**  You can also incorporate your city or location into the name for a more personal touch. \n",
            "\n"
          ]
        }
      ],
      "source": [
        "prompt = \"What do you think could be a good name for a flower shop that specializes in selling bouquets of dried flowers more than fresh flowers?\"\n",
        "\n",
        "print(model.generate_content(prompt).text)"
      ]
    },
    {
      "cell_type": "markdown",
      "metadata": {
        "id": "YrJexRHJYnmC"
      },
      "source": [
        "✅ Recommended. The prompt below is to the point and concise."
      ]
    },
    {
      "cell_type": "code",
      "execution_count": 7,
      "metadata": {
        "id": "VHetn9lCYrXB",
        "outputId": "5b141a19-2152-4223-eda8-2375a1747a52",
        "colab": {
          "base_uri": "https://localhost:8080/"
        }
      },
      "outputs": [
        {
          "output_type": "stream",
          "name": "stdout",
          "text": [
            "## Flower Shop Names for Dried Bouquets:\n",
            "\n",
            "**Short & Sweet:**\n",
            "\n",
            "* Dried Blooms\n",
            "* Bloom & Wither\n",
            "* Forever Bloom\n",
            "* Timeless Blooms\n",
            "* Dusty Bouquet\n",
            "* Withered & Wild\n",
            "* The Dried Florist\n",
            "\n",
            "**Unique & Evocative:**\n",
            "\n",
            "* The Paper Petal\n",
            "* Wildflower Whispers\n",
            "* Botanical Nostalgia\n",
            "* Sun-Kissed Memories\n",
            "* The Dried Garden\n",
            "* The Eternal Bloom\n",
            "* Whispers of the Past\n",
            "\n",
            "**Playful & Fun:**\n",
            "\n",
            "* The Dried Out Bunch\n",
            "* The Flower Fairies\n",
            "* The Dusty Petal\n",
            "* The Forever Flower\n",
            "* The Dried & Delightful\n",
            "* Bloom & Bloom Again\n",
            "\n",
            "**Location-Specific:**\n",
            "\n",
            "* [City Name] Dried Blooms\n",
            "* [Street Name] Flower Co. \n",
            "* [Neighborhood Name] Dried Flowers\n",
            "\n",
            "**Bonus:**\n",
            "\n",
            "* Consider using a play on words with \"dried\" or \"forever\".\n",
            "* Incorporate a unique characteristic of your bouquets, like their colors, textures, or styles.\n",
            "* Make sure the name is easy to remember and pronounce.\n",
            "\n",
            "**Pro Tip:** Check for available domain names and social media handles before finalizing your choice. \n",
            "\n"
          ]
        }
      ],
      "source": [
        "prompt = \"Suggest a name for a flower shop that sells bouquets of dried flowers\"\n",
        "\n",
        "print(model.generate_content(prompt).text)"
      ]
    },
    {
      "cell_type": "markdown",
      "metadata": {
        "id": "eXTAvdOHY0OC"
      },
      "source": [
        "### Be specific, and well-defined"
      ]
    },
    {
      "cell_type": "markdown",
      "metadata": {
        "id": "FTH4GEIgY1dp"
      },
      "source": [
        "Suppose that you want to brainstorm creative ways to describe Earth."
      ]
    },
    {
      "cell_type": "markdown",
      "metadata": {
        "id": "o5BmXBiGY4KC"
      },
      "source": [
        "🛑 The prompt below might be a bit too generic (which is certainly OK if you'd like to ask a generic question!)"
      ]
    },
    {
      "cell_type": "code",
      "execution_count": 9,
      "metadata": {
        "id": "eHBaMvv7Y6mR",
        "outputId": "b84a91a8-38b0-4771-8817-1ca3ac56e57b",
        "colab": {
          "base_uri": "https://localhost:8080/"
        }
      },
      "outputs": [
        {
          "output_type": "stream",
          "name": "stdout",
          "text": [
            "## Earth: Our Amazing Home Planet\n",
            "\n",
            "Earth, the third planet from the Sun, is a vibrant and complex world.  Here's a glimpse into its fascinating features:\n",
            "\n",
            "**The Basics:**\n",
            "\n",
            "* **Size:**  Earth is a rocky planet with a diameter of about 12,742 km (7,926 miles).\n",
            "* **Rotation:** Earth spins on its axis once every 24 hours, giving us day and night.\n",
            "* **Revolution:** It takes Earth approximately 365.25 days to orbit the Sun, which is why we have a year.\n",
            "* **Composition:** Earth is primarily composed of iron, oxygen, silicon, magnesium, sulfur, nickel, calcium, and aluminum.\n",
            "\n",
            "**Unique Features:**\n",
            "\n",
            "* **Atmosphere:** Earth has a protective atmosphere composed mainly of nitrogen and oxygen, which filters harmful radiation from the Sun and allows life to thrive.\n",
            "* **Water:**  Earth is the only known planet with liquid water on its surface, forming oceans, lakes, and rivers. This water is crucial for life.\n",
            "* **Plate Tectonics:** The Earth's crust is made up of massive plates that constantly move and interact, creating mountains, volcanoes, and earthquakes.\n",
            "* **Biosphere:** Earth is teeming with life, from microscopic bacteria to massive whales. This diverse ecosystem is unique in the solar system.\n",
            "* **Magnetic Field:** Earth has a magnetic field that protects us from harmful solar radiation and creates the beautiful aurora borealis.\n",
            "\n",
            "**Human Impact:**\n",
            "\n",
            "* **Climate Change:** Human activities are altering Earth's climate system, leading to rising temperatures, changing weather patterns, and sea level rise.\n",
            "* **Pollution:** We are polluting the air, water, and land with waste and chemicals, harming ecosystems and human health.\n",
            "* **Deforestation:**  Large-scale deforestation is destroying habitats and contributing to climate change.\n",
            "\n",
            "**Fascinating Facts:**\n",
            "\n",
            "* Earth is the only known planet to host life.\n",
            "* The highest mountain on Earth is Mount Everest (8,848.86 m).\n",
            "* The deepest part of the ocean is the Mariana Trench (10,929 m).\n",
            "* Earth's average surface temperature is about 14°C (57°F).\n",
            "* We are constantly discovering new and amazing things about Earth!\n",
            "\n",
            "**Our Responsibility:**\n",
            "\n",
            "It's our responsibility to understand, protect, and appreciate this incredible planet. We can make sustainable choices, reduce our impact, and work towards a healthier future for Earth and all its inhabitants. \n",
            "\n"
          ]
        }
      ],
      "source": [
        "prompt = \"Tell me about Earth\"\n",
        "\n",
        "print(model.generate_content(prompt).text)"
      ]
    },
    {
      "cell_type": "markdown",
      "metadata": {
        "id": "4iyvEbteZnFL"
      },
      "source": [
        "✅ Recommended. The prompt below is specific and well-defined."
      ]
    },
    {
      "cell_type": "code",
      "execution_count": 13,
      "metadata": {
        "id": "JQ80z8urZnne",
        "outputId": "0d3b262f-ca83-4c34-f556-bef5d5f00867",
        "colab": {
          "base_uri": "https://localhost:8080/"
        }
      },
      "outputs": [
        {
          "output_type": "stream",
          "name": "stdout",
          "text": [
            "Here are three of the most important characteristics that make Earth unique compared to other planets:\n",
            "\n",
            "1. **Liquid Water:** Earth is the only known planet in our solar system with liquid water on its surface. This water is essential for life as we know it, providing a medium for chemical reactions, transporting nutrients, and regulating temperature.  Other planets may have water, but it is either frozen or vaporized.\n",
            "2. **Plate Tectonics:**  Earth's crust is broken into plates that move and interact with each other. This process, known as plate tectonics, creates mountains, volcanoes, and earthquakes. Plate tectonics also helps regulate Earth's climate and carbon cycle, keeping the planet habitable.  No other planet in our solar system has active plate tectonics.\n",
            "3. **Atmosphere with Oxygen:** Earth's atmosphere is composed primarily of nitrogen and oxygen, with a significant amount of oxygen produced by photosynthetic life. This oxygen is essential for most life forms on Earth, allowing for complex organisms and ecosystems to thrive. Other planets with atmospheres have very different compositions, often lacking the oxygen necessary for complex life.\n",
            "\n",
            "While these are just three of Earth's unique features, it's important to note that the combination of all these factors, along with others like its distance from the sun and its magnetic field, create the perfect conditions for life to flourish.  \n",
            "\n"
          ]
        }
      ],
      "source": [
        "prompt = \"Generate a list of ways that makes Earth unique compared to other planets. Provide the three most important characteristics.\"\n",
        "\n",
        "print(model.generate_content(prompt).text)"
      ]
    },
    {
      "cell_type": "markdown",
      "metadata": {
        "id": "R5kmfZYHZsJ7"
      },
      "source": [
        "### Ask one task at a time"
      ]
    },
    {
      "cell_type": "markdown",
      "metadata": {
        "id": "rsAezxeYZuUN"
      },
      "source": [
        "🛑 Not recommended. The prompt below has two parts to the question that could be asked separately."
      ]
    },
    {
      "cell_type": "code",
      "execution_count": 14,
      "metadata": {
        "id": "ElywPXpuZtWf",
        "outputId": "e193df8e-4fb1-4c72-ec56-57805e794a81",
        "colab": {
          "base_uri": "https://localhost:8080/"
        }
      },
      "outputs": [
        {
          "output_type": "stream",
          "name": "stdout",
          "text": [
            "Here's a breakdown of those two questions:\n",
            "\n",
            "**Boiling Water:**\n",
            "\n",
            "* **The Best Method:** While there's no single \"best\" method, the most efficient and reliable way to boil water is using a **stovetop kettle** or **electric kettle**. \n",
            "    * **Why?**\n",
            "        * **Speed:**  Kettles are specifically designed to heat water quickly, saving time and energy.\n",
            "        * **Safety:**  They have safety features like auto-shutoff and boil-dry protection.\n",
            "        * **Convenience:** Kettles are easy to use and clean.\n",
            "\n",
            "**Why the Sky is Blue:**\n",
            "\n",
            "* **Rayleigh Scattering:** The sky's blue color is due to a phenomenon called **Rayleigh scattering**. This happens when sunlight interacts with the tiny particles in the Earth's atmosphere, primarily nitrogen and oxygen.\n",
            "    * **How it Works:** \n",
            "        * Sunlight is made up of all the colors of the rainbow.\n",
            "        * When sunlight hits these particles, shorter wavelengths of light, like blue and violet, are scattered more strongly in all directions.\n",
            "        * This scattered blue light is what we see as the blue sky.\n",
            "    * **At Sunset/Sunrise:** When the sun is near the horizon, sunlight travels through a longer path in the atmosphere.  More blue light is scattered away, allowing longer wavelengths like red and orange to reach our eyes, giving us those beautiful sunset and sunrise colors. \n",
            "\n"
          ]
        }
      ],
      "source": [
        "prompt = \"What's the best method of boiling water and why is the sky blue?\"\n",
        "\n",
        "print(model.generate_content(prompt).text)"
      ]
    },
    {
      "cell_type": "markdown",
      "metadata": {
        "id": "ejzahazBZ8vk"
      },
      "source": [
        "✅ Recommended. The prompts below asks one task a time."
      ]
    },
    {
      "cell_type": "code",
      "execution_count": 15,
      "metadata": {
        "id": "C5ckp2F0Z_Ba",
        "outputId": "3a7cab96-9127-40b2-c970-072057b72f38",
        "colab": {
          "base_uri": "https://localhost:8080/"
        }
      },
      "outputs": [
        {
          "output_type": "stream",
          "name": "stdout",
          "text": [
            "There isn't one \"best\" method, as the ideal method depends on your specific needs and resources. Here's a breakdown of different methods and their pros and cons:\n",
            "\n",
            "**Stovetop:**\n",
            "\n",
            "* **Pros:** Most common and accessible method, fast, versatile for different pot sizes.\n",
            "* **Cons:** Requires a stove, can be wasteful of energy if pot is too small, risk of burning if not monitored closely.\n",
            "\n",
            "**Microwave:**\n",
            "\n",
            "* **Pros:**  Fast, energy-efficient, convenient, minimal clean-up.\n",
            "* **Cons:**  Limited by microwave size, can be uneven heating, not ideal for large quantities.\n",
            "\n",
            "**Electric Kettle:**\n",
            "\n",
            "* **Pros:**  Fast, efficient, convenient, often has temperature control for different needs.\n",
            "* **Cons:**  Requires an electrical outlet, can be less versatile than stovetop.\n",
            "\n",
            "**Other Methods:**\n",
            "\n",
            "* **Camping Kettle:** Great for outdoor use, but slower than electric kettle.\n",
            "* **Solar Cooker:**  Eco-friendly, but slow and requires direct sunlight.\n",
            "\n",
            "**Choosing the Best Method:**\n",
            "\n",
            "* **Speed:** Electric kettle or microwave are fastest.\n",
            "* **Quantity:** Stovetop is best for large quantities.\n",
            "* **Energy Efficiency:**  Electric kettle is generally most efficient.\n",
            "* **Convenience:**  Microwave or electric kettle are most convenient.\n",
            "* **Availability:** Stovetop is most accessible.\n",
            "\n",
            "**General Tips for Boiling Water:**\n",
            "\n",
            "* **Use a lid:**  This helps water boil faster and conserves energy.\n",
            "* **Don't overcrowd the pot:**  Leave space for steam to escape.\n",
            "* **Monitor closely:**  Water can boil over if not watched.\n",
            "* **Use clean water:** This is essential for safety.\n",
            "\n",
            "No matter which method you choose, remember to always bring water to a rolling boil to kill harmful bacteria. \n",
            "\n"
          ]
        }
      ],
      "source": [
        "prompt = \"What's the best method of boiling water?\"\n",
        "\n",
        "print(model.generate_content(prompt).text)"
      ]
    },
    {
      "cell_type": "code",
      "execution_count": 16,
      "metadata": {
        "id": "KwUzhud4aA89",
        "outputId": "e78f2127-dd07-4fa8-c591-923c81fb0dfb",
        "colab": {
          "base_uri": "https://localhost:8080/"
        }
      },
      "outputs": [
        {
          "output_type": "stream",
          "name": "stdout",
          "text": [
            "The sky appears blue due to a phenomenon called **Rayleigh scattering**. Here's how it works:\n",
            "\n",
            "* **Sunlight is made up of all colors of the rainbow.** When sunlight enters the Earth's atmosphere, it encounters tiny particles like nitrogen and oxygen molecules.\n",
            "* **These particles scatter the light.**  Blue light has a shorter wavelength than other colors (like red or orange), so it is scattered more strongly by these particles.\n",
            "* **This scattered blue light reaches our eyes from all directions.**  That's why the sky appears blue, even though the sun emits all colors of light.\n",
            "\n",
            "**Here's a simple analogy:**\n",
            "\n",
            "Imagine shining a flashlight through a glass of milk. The milk particles scatter the light, making the beam appear wider and whiter. Similarly, the tiny particles in the atmosphere scatter the blue light from the sun, making the sky appear blue.\n",
            "\n",
            "**Additional factors:**\n",
            "\n",
            "* **The sky can appear other colors at sunrise and sunset.** This is because the sunlight has to travel through more of the atmosphere at these times. The longer path means that the blue light is scattered away, and we see the remaining colors like red and orange.\n",
            "* **Pollution can also affect the color of the sky.**  More particles in the air can scatter more light, making the sky appear hazy or even grayish.\n",
            "\n",
            "So, the next time you look up at the blue sky, remember that you're seeing a beautiful example of physics in action! \n",
            "\n"
          ]
        }
      ],
      "source": [
        "prompt = \"Why is the sky blue?\"\n",
        "\n",
        "print(model.generate_content(prompt).text)"
      ]
    },
    {
      "cell_type": "markdown",
      "metadata": {
        "id": "PJIL2RTQaGcT"
      },
      "source": [
        "### Watch out for hallucinations"
      ]
    },
    {
      "cell_type": "markdown",
      "metadata": {
        "id": "8Y8kYxrSaHE9"
      },
      "source": [
        "Although LLMs have been trained on a large amount of data, they can generate text containing statements not grounded in truth or reality; these responses from the LLM are often referred to as \"hallucinations\" due to their limited memorization capabilities. Note that simply prompting the LLM to provide a citation isn't a fix to this problem, as there are instances of LLMs providing false or inaccurate citations. Dealing with hallucinations is a fundamental challenge of LLMs and an ongoing research area, so it is important to be cognizant that LLMs may seem to give you confident, correct-sounding statements that are in fact incorrect.\n",
        "\n",
        "Note that if you intend to use LLMs for the creative use cases, hallucinating could actually be quite useful."
      ]
    },
    {
      "cell_type": "markdown",
      "metadata": {
        "id": "8NY5nAGeaJYS"
      },
      "source": [
        "Try the prompt like the one below repeatedly. We set the temperature to 1.0 so that it takes more risks in its choices. It's possible that it may provide an inaccurate, but confident answer."
      ]
    },
    {
      "cell_type": "code",
      "execution_count": 17,
      "metadata": {
        "id": "QALPjEILaM62",
        "outputId": "a28be67b-24d6-4a4b-d07a-c7cd5d565377",
        "colab": {
          "base_uri": "https://localhost:8080/"
        }
      },
      "outputs": [
        {
          "output_type": "stream",
          "name": "stdout",
          "text": [
            "I do not have access to real-time information, including the current date. To know what day it is today, please check a calendar or your device's date settings. \n",
            "\n"
          ]
        }
      ],
      "source": [
        "generation_config = GenerationConfig(temperature=1.0)\n",
        "\n",
        "prompt = \"What day is it today?\"\n",
        "\n",
        "print(model.generate_content(prompt, generation_config=generation_config).text)"
      ]
    },
    {
      "cell_type": "markdown",
      "metadata": {
        "id": "BRkwzbgRbhKt"
      },
      "source": [
        "Since LLMs do not have access to real-time information without further integrations, you may have noticed it hallucinates what day it is today in some of the outputs."
      ]
    },
    {
      "cell_type": "markdown",
      "metadata": {
        "id": "3c811e310d02"
      },
      "source": [
        "### Using system instructions to guardrail the model from irrelevant responses\n",
        "\n",
        "How can we attempt to reduce the chances of irrelevant responses and hallucinations?\n",
        "\n",
        "One way is to provide the LLM with [system instructions](https://cloud.google.com/vertex-ai/generative-ai/docs/multimodal/send-chat-prompts-gemini#system-instructions).\n",
        "\n",
        "Let's see how system instructions works and how you can use them to reduce hallucinations or irrelevant questions for a travel chatbot.\n",
        "\n",
        "Suppose we ask a simple question about one of Italy's most famous tourist spots."
      ]
    },
    {
      "cell_type": "code",
      "execution_count": 18,
      "metadata": {
        "id": "rB6zJU76biFK",
        "outputId": "b9fb13ec-de4c-417b-9e97-cb2ac2b8d98d",
        "colab": {
          "base_uri": "https://localhost:8080/"
        }
      },
      "outputs": [
        {
          "output_type": "stream",
          "name": "stdout",
          "text": [
            "Milan is a fantastic city for sightseeing!  It's hard to choose just one \"best\" place, as it depends on your interests.  \n",
            "\n",
            "To help me give you a better suggestion, can you tell me more about what you'd like to see? \n",
            "\n",
            "For example:\n",
            "\n",
            "* **Are you interested in art and history?**  \n",
            "* **Do you want to see some iconic architecture?** \n",
            "* **Are you looking for a bustling, lively area?** \n",
            "* **Or maybe something more peaceful and green?** \n",
            "\n",
            "Once I know a bit more about your preferences, I can recommend the perfect place for you! \n",
            "\n"
          ]
        }
      ],
      "source": [
        "model_travel = GenerativeModel(\n",
        "    model_name=\"gemini-1.5-flash\",\n",
        "    system_instruction=[\n",
        "        \"Hello! You are an AI chatbot for a travel web site.\",\n",
        "        \"Your mission is to provide helpful queries for travelers.\",\n",
        "        \"Remember that before you answer a question, you must check to see if it complies with your mission.\",\n",
        "        \"If not, you can say, Sorry I can't answer that question.\",\n",
        "    ],\n",
        ")\n",
        "\n",
        "chat = model_travel.start_chat()\n",
        "\n",
        "prompt = \"What is the best place for sightseeing in Milan, Italy?\"\n",
        "print(chat.send_message(prompt).text)"
      ]
    },
    {
      "cell_type": "markdown",
      "metadata": {
        "id": "WZa-Qcf9cF4A"
      },
      "source": [
        "Now let us pretend to be a user asks the chatbot a question that is unrelated to travel."
      ]
    },
    {
      "cell_type": "code",
      "execution_count": 19,
      "metadata": {
        "id": "AZKBIDr2cGnu",
        "outputId": "7435d752-909e-4bf1-c865-488df90c082d",
        "colab": {
          "base_uri": "https://localhost:8080/"
        }
      },
      "outputs": [
        {
          "output_type": "stream",
          "name": "stdout",
          "text": [
            "Sorry, I can't answer that question. I'm here to help travelers with planning their trips, not with personal meal choices. 😊 \n",
            "\n",
            "Do you have any travel questions about Milan? Maybe I can help you find some delicious restaurants there! \n",
            "\n"
          ]
        }
      ],
      "source": [
        "prompt = \"What's for dinner?\"\n",
        "print(chat.send_message(prompt).text)"
      ]
    },
    {
      "cell_type": "markdown",
      "metadata": {
        "id": "JiUYIhwpctCy"
      },
      "source": [
        "You can see that this way, a guardrail in the prompt prevented the chatbot from veering off course."
      ]
    },
    {
      "cell_type": "markdown",
      "metadata": {
        "id": "ZuuDhA37cvmP"
      },
      "source": [
        "### Turn generative tasks into classification tasks to reduce output variability"
      ]
    },
    {
      "cell_type": "markdown",
      "metadata": {
        "id": "kUCUrsUzczmb"
      },
      "source": [
        "#### Generative tasks lead to higher output variability"
      ]
    },
    {
      "cell_type": "markdown",
      "metadata": {
        "id": "a1xASHAkc46n"
      },
      "source": [
        "The prompt below results in an open-ended response, useful for brainstorming, but response is highly variable."
      ]
    },
    {
      "cell_type": "code",
      "execution_count": 20,
      "metadata": {
        "id": "nPfXQWIacwRf",
        "outputId": "ea370473-28fb-4d13-a144-2bee580cff96",
        "colab": {
          "base_uri": "https://localhost:8080/"
        }
      },
      "outputs": [
        {
          "output_type": "stream",
          "name": "stdout",
          "text": [
            "Here are some programming activities tailored for a high school student, focusing on different skill levels and interests:\n",
            "\n",
            "**Beginner:**\n",
            "\n",
            "* **Build a simple calculator:** This project reinforces basic math operations, input/output, and conditional statements. You can use Python or JavaScript to create a basic calculator that can add, subtract, multiply, and divide.\n",
            "* **Create a text-based adventure game:**  Use Python or JavaScript to write a simple story where the player makes choices. This helps with understanding variables, loops, and conditional logic.\n",
            "* **Design a website with HTML, CSS, and JavaScript:** Start with simple webpages, then learn to add interactive elements like buttons, forms, and image galleries. This introduces you to front-end development.\n",
            "* **Learn a new programming language:**  Explore options like Python, JavaScript, C++, or Java. Many online courses and tutorials make this accessible.\n",
            "\n",
            "**Intermediate:**\n",
            "\n",
            "* **Develop a simple game:** Expand on your text-based adventure by using libraries like Pygame (Python) or Phaser (JavaScript) to create a graphical game with basic graphics and gameplay.\n",
            "* **Create a web application:**  Build a small application like a to-do list or a basic social media platform using HTML, CSS, JavaScript, and a backend language like Python (with Flask or Django) or Node.js.\n",
            "* **Contribute to open source projects:** Find a project on GitHub related to your interests and submit bug fixes or new features. This teaches you about collaborative development and code quality.\n",
            "* **Build a chatbot:** Use a chatbot framework like Dialogflow or Rasa to create a simple conversational AI that can understand and respond to basic queries.\n",
            "\n",
            "**Advanced:**\n",
            "\n",
            "* **Develop a machine learning project:** Learn about machine learning concepts like classification or regression. Use libraries like scikit-learn (Python) to build a simple model that predicts data, such as image recognition or sentiment analysis.\n",
            "* **Work on a personal project:** Choose a project you're passionate about, whether it's a game, a web application, or a tool to solve a specific problem. This challenges you to apply your knowledge and learn new skills.\n",
            "* **Participate in hackathons:** Hackathons are events where teams work together to build projects within a time limit. This is a great way to gain experience working on real-world projects under pressure.\n",
            "* **Build your own website or portfolio:** Showcase your projects and skills with a personal website. This helps you build a professional online presence and demonstrates your skills to potential employers.\n",
            "\n",
            "**Resources:**\n",
            "\n",
            "* **Online Courses:** Codecademy, Khan Academy, Coursera, edX\n",
            "* **YouTube Channels:** FreeCodeCamp, The Net Ninja, Traversy Media\n",
            "* **Communities:** Stack Overflow, Reddit (r/learnprogramming, r/coding)\n",
            "* **Libraries and Frameworks:** Pygame, Phaser, Flask, Django, Node.js, React\n",
            "\n",
            "**Important Tips:**\n",
            "\n",
            "* **Start small:** Don't try to tackle massive projects at once. Break projects down into manageable steps.\n",
            "* **Practice consistently:**  The more you code, the better you'll become. Set aside time each day for coding.\n",
            "* **Don't be afraid to ask for help:** There are many online resources and communities where you can find support.\n",
            "* **Have fun:** Programming should be enjoyable. Choose projects that you're interested in and that challenge you. \n",
            "\n",
            "Remember, the key to improving your skills is consistent practice and a willingness to learn new things. Good luck! \n",
            "\n"
          ]
        }
      ],
      "source": [
        "prompt = \"I'm a high school student. Recommend me a programming activity to improve my skills.\"\n",
        "\n",
        "print(model.generate_content(prompt).text)"
      ]
    },
    {
      "cell_type": "markdown",
      "metadata": {
        "id": "iAmm9wPYc_1o"
      },
      "source": [
        "#### Classification tasks reduces output variability"
      ]
    },
    {
      "cell_type": "markdown",
      "metadata": {
        "id": "VvRpK_0GdCpf"
      },
      "source": [
        "The prompt below results in a choice and may be useful if you want the output to be easier to control."
      ]
    },
    {
      "cell_type": "code",
      "execution_count": 21,
      "metadata": {
        "id": "kYDKh0r2dAqo",
        "outputId": "bf5afbc1-fc0c-47c0-bd6a-32abe9b6b2cd",
        "colab": {
          "base_uri": "https://localhost:8080/"
        }
      },
      "outputs": [
        {
          "output_type": "stream",
          "name": "stdout",
          "text": [
            "As a high school student, all three programming languages have their own merits and it ultimately depends on your interests and goals. Here's a breakdown to help you decide:\n",
            "\n",
            "**a) Learn Python:**\n",
            "\n",
            "* **Pros:**\n",
            "    * **Beginner-friendly:** Python is known for its simple syntax and readability, making it a great starting point for beginners.\n",
            "    * **Widely applicable:** Python is used in various fields like web development, data science, machine learning, and scripting.\n",
            "    * **Large community & resources:** Python has a vast community, providing ample support, libraries, and online resources.\n",
            "* **Cons:**\n",
            "    * **Performance:**  Python is interpreted, which can lead to slower execution compared to compiled languages.\n",
            "    * **Not ideal for specific domains:** While versatile, it's not the primary choice for highly performance-intensive applications like game development or high-frequency trading.\n",
            "\n",
            "**b) Learn JavaScript:**\n",
            "\n",
            "* **Pros:**\n",
            "    * **Web development:** JavaScript is the language of the web, allowing you to create interactive websites and web applications.\n",
            "    * **Front-end and back-end:** JavaScript can be used for both front-end development (user interface) and back-end development (server-side logic) through Node.js.\n",
            "    * **In-demand:** JavaScript is one of the most in-demand programming languages, opening career opportunities in web development and related fields.\n",
            "* **Cons:**\n",
            "    * **Can be complex:** While not as complex as some other languages, JavaScript has its own quirks and nuances that can take time to master.\n",
            "    * **Focus on web:** While used in other areas, JavaScript's primary strength lies in web development.\n",
            "\n",
            "**c) Learn Fortran:**\n",
            "\n",
            "* **Pros:**\n",
            "    * **Scientific computing:** Fortran is traditionally known for its strength in scientific computing, high-performance computing, and numerical analysis.\n",
            "    * **Legacy code:**  Many scientific and engineering applications are written in Fortran, and knowledge of this language can be useful in those fields.\n",
            "* **Cons:**\n",
            "    * **Outdated:** While still used, Fortran is considered an older language with a steeper learning curve.\n",
            "    * **Limited applications:**  Fortran's applicability is primarily focused on scientific and engineering domains, making it less versatile than Python or JavaScript.\n",
            "\n",
            "**Recommendations:**\n",
            "\n",
            "* **If you're interested in web development or a general-purpose language with a wide range of applications, Python or JavaScript are great choices.**\n",
            "* **If you have a strong interest in scientific computing or engineering, Fortran could be worth exploring, though be aware of its limitations and the possibility of learning more modern alternatives.**\n",
            "\n",
            "**Ultimately, the best language for you depends on your individual goals and interests. Explore different resources, try out tutorials, and see what excites you the most!**\n",
            "\n"
          ]
        }
      ],
      "source": [
        "prompt = \"\"\"I'm a high school student. Which of these activities do you suggest and why:\n",
        "a) learn Python\n",
        "b) learn JavaScript\n",
        "c) learn Fortran\n",
        "\"\"\"\n",
        "\n",
        "print(model.generate_content(prompt).text)"
      ]
    },
    {
      "cell_type": "markdown",
      "metadata": {
        "id": "iTd60b1GdIsx"
      },
      "source": [
        "### Improve response quality by including examples"
      ]
    },
    {
      "cell_type": "markdown",
      "metadata": {
        "id": "yJi44NejdJYE"
      },
      "source": [
        "Another way to improve response quality is to add examples in your prompt. The LLM learns in-context from the examples on how to respond. Typically, one to five examples (shots) are enough to improve the quality of responses. Including too many examples can cause the model to over-fit the data and reduce the quality of responses.\n",
        "\n",
        "Similar to classical model training, the quality and distribution of the examples is very important. Pick examples that are representative of the scenarios that you need the model to learn, and keep the distribution of the examples (e.g. number of examples per class in the case of classification) aligned with your actual distribution."
      ]
    },
    {
      "cell_type": "markdown",
      "metadata": {
        "id": "sMbLginWdOKs"
      },
      "source": [
        "#### Zero-shot prompt"
      ]
    },
    {
      "cell_type": "markdown",
      "metadata": {
        "id": "Crh2Loi2dQ0v"
      },
      "source": [
        "Below is an example of zero-shot prompting, where you don't provide any examples to the LLM within the prompt itself."
      ]
    },
    {
      "cell_type": "code",
      "execution_count": 22,
      "metadata": {
        "id": "-7myRc-SdTQ4",
        "outputId": "f72659cf-944d-4c2d-d971-a933e8c0a0ad",
        "colab": {
          "base_uri": "https://localhost:8080/"
        }
      },
      "outputs": [
        {
          "output_type": "stream",
          "name": "stdout",
          "text": [
            "Sentiment: **Positive** \n",
            "\n"
          ]
        }
      ],
      "source": [
        "prompt = \"\"\"Decide whether a Tweet's sentiment is positive, neutral, or negative.\n",
        "\n",
        "Tweet: I loved the new YouTube video you made!\n",
        "Sentiment:\n",
        "\"\"\"\n",
        "\n",
        "print(model.generate_content(prompt).text)"
      ]
    },
    {
      "cell_type": "markdown",
      "metadata": {
        "id": "ucRtPn9SdL64"
      },
      "source": [
        "#### One-shot prompt"
      ]
    },
    {
      "cell_type": "markdown",
      "metadata": {
        "id": "rs0gQH2vdYBi"
      },
      "source": [
        "Below is an example of one-shot prompting, where you provide one example to the LLM within the prompt to give some guidance on what type of response you want."
      ]
    },
    {
      "cell_type": "code",
      "execution_count": 24,
      "metadata": {
        "id": "iEq-KxGYdaT5",
        "outputId": "67b9e613-0b58-453b-8ee2-b27f8c39d8d0",
        "colab": {
          "base_uri": "https://localhost:8080/"
        }
      },
      "outputs": [
        {
          "output_type": "stream",
          "name": "stdout",
          "text": [
            "Sentiment: **negative** \n",
            "\n"
          ]
        }
      ],
      "source": [
        "prompt = \"\"\"Decide whether a Tweet's sentiment is positive, neutral, or negative.\n",
        "\n",
        "Tweet: I loved the new YouTube video you made!\n",
        "Sentiment: positive\n",
        "\n",
        "Tweet: That was awful. Super boring 😠\n",
        "Sentiment:\n",
        "\"\"\"\n",
        "\n",
        "print(model.generate_content(prompt).text)"
      ]
    },
    {
      "cell_type": "markdown",
      "metadata": {
        "id": "JnKLjJzmdfL_"
      },
      "source": [
        "#### Few-shot prompt"
      ]
    },
    {
      "cell_type": "markdown",
      "metadata": {
        "id": "6Zv-9F5OdgI_"
      },
      "source": [
        "Below is an example of few-shot prompting, where you provide a few examples to the LLM within the prompt to give some guidance on what type of response you want."
      ]
    },
    {
      "cell_type": "code",
      "execution_count": 25,
      "metadata": {
        "id": "u37P9tG4dk9S",
        "outputId": "34de0810-4efc-45c7-be39-a7e1f5e08e5b",
        "colab": {
          "base_uri": "https://localhost:8080/"
        }
      },
      "outputs": [
        {
          "output_type": "stream",
          "name": "stdout",
          "text": [
            "Sentiment: **Positive** \n",
            "\n",
            "Here's why:\n",
            "\n",
            "* **\"Surprised me\"**: This implies a positive unexpected outcome.\n",
            "* **\"Original\"**:  Indicates something different and potentially better than the usual.\n",
            "* **\"Not the same old recycled stuff\"**:  Further highlights the positive aspect of originality.\n",
            "* **\"Watch it - you will not regret it\"**:  A strong recommendation, suggesting a positive experience. \n",
            "\n"
          ]
        }
      ],
      "source": [
        "prompt = \"\"\"Decide whether a Tweet's sentiment is positive, neutral, or negative.\n",
        "\n",
        "Tweet: I loved the new YouTube video you made!\n",
        "Sentiment: positive\n",
        "\n",
        "Tweet: That was awful. Super boring 😠\n",
        "Sentiment: negative\n",
        "\n",
        "Tweet: Something surprised me about this video - it was actually original. It was not the same old recycled stuff that I always see. Watch it - you will not regret it.\n",
        "Sentiment:\n",
        "\"\"\"\n",
        "\n",
        "print(model.generate_content(prompt).text)"
      ]
    },
    {
      "cell_type": "markdown",
      "metadata": {
        "id": "wDMD3xb2dvX6"
      },
      "source": [
        "#### Choosing between zero-shot, one-shot, few-shot prompting methods"
      ]
    },
    {
      "cell_type": "markdown",
      "metadata": {
        "id": "s92W0YpNdxJp"
      },
      "source": [
        "Which prompt technique to use will solely depends on your goal. The zero-shot prompts are more open-ended and can give you creative answers, while one-shot and few-shot prompts teach the model how to behave so you can get more predictable answers that are consistent with the examples provided."
      ]
    }
  ],
  "metadata": {
    "colab": {
      "name": "intro_prompt_design.ipynb",
      "toc_visible": true,
      "provenance": [],
      "include_colab_link": true
    },
    "kernelspec": {
      "display_name": "Python 3",
      "name": "python3"
    }
  },
  "nbformat": 4,
  "nbformat_minor": 0
}